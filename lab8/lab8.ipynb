{
 "cells": [
  {
   "cell_type": "code",
   "execution_count": 8,
   "metadata": {},
   "outputs": [],
   "source": [
    "import torch\n",
    "import pandas as pd\n",
    "\n",
    "from collections import Counter\n",
    "from torchtext.vocab import vocab\n",
    "from sklearn.metrics import accuracy_score"
   ]
  },
  {
   "cell_type": "code",
   "execution_count": 9,
   "metadata": {},
   "outputs": [],
   "source": [
    "train_set = pd.read_csv('./train/train.tsv', sep='\\t', header=None, names=['labels', 'text'])\n",
    "\n",
    "val_set = pd.read_csv('./dev-0/expected.tsv', sep='\\t', header=None, names=['labels'])\n",
    "val_set['text'] = pd.read_csv('./dev-0/in.tsv', sep='\\t', header=None, names=['text'])\n",
    "\n",
    "test_set = pd.read_csv('./test-A/in.tsv', sep='\\t', header=None, names=['text'])"
   ]
  },
  {
   "cell_type": "code",
   "execution_count": 10,
   "metadata": {},
   "outputs": [
    {
     "data": {
      "text/html": [
       "<div>\n",
       "<style scoped>\n",
       "    .dataframe tbody tr th:only-of-type {\n",
       "        vertical-align: middle;\n",
       "    }\n",
       "\n",
       "    .dataframe tbody tr th {\n",
       "        vertical-align: top;\n",
       "    }\n",
       "\n",
       "    .dataframe thead th {\n",
       "        text-align: right;\n",
       "    }\n",
       "</style>\n",
       "<table border=\"1\" class=\"dataframe\">\n",
       "  <thead>\n",
       "    <tr style=\"text-align: right;\">\n",
       "      <th></th>\n",
       "      <th>labels</th>\n",
       "      <th>text</th>\n",
       "    </tr>\n",
       "  </thead>\n",
       "  <tbody>\n",
       "    <tr>\n",
       "      <th>0</th>\n",
       "      <td>B-ORG O B-MISC O O O B-MISC O O O B-PER I-PER ...</td>\n",
       "      <td>EU rejects German call to boycott British lamb...</td>\n",
       "    </tr>\n",
       "    <tr>\n",
       "      <th>1</th>\n",
       "      <td>O B-PER O O O O O O O O O B-LOC O O O O O O O ...</td>\n",
       "      <td>Rare Hendrix song draft sells for almost $ 17,...</td>\n",
       "    </tr>\n",
       "    <tr>\n",
       "      <th>2</th>\n",
       "      <td>B-LOC O B-LOC O O O O O O B-LOC O O B-LOC O O ...</td>\n",
       "      <td>China says Taiwan spoils atmosphere for talks ...</td>\n",
       "    </tr>\n",
       "    <tr>\n",
       "      <th>3</th>\n",
       "      <td>B-LOC O O O O B-LOC O O O B-LOC O O B-LOC O O ...</td>\n",
       "      <td>China says time right for Taiwan talks . &lt;/S&gt; ...</td>\n",
       "    </tr>\n",
       "    <tr>\n",
       "      <th>4</th>\n",
       "      <td>B-MISC O O O O O O O O O O O B-LOC O O B-MISC ...</td>\n",
       "      <td>German July car registrations up 14.2 pct yr /...</td>\n",
       "    </tr>\n",
       "  </tbody>\n",
       "</table>\n",
       "</div>"
      ],
      "text/plain": [
       "                                              labels  \\\n",
       "0  B-ORG O B-MISC O O O B-MISC O O O B-PER I-PER ...   \n",
       "1  O B-PER O O O O O O O O O B-LOC O O O O O O O ...   \n",
       "2  B-LOC O B-LOC O O O O O O B-LOC O O B-LOC O O ...   \n",
       "3  B-LOC O O O O B-LOC O O O B-LOC O O B-LOC O O ...   \n",
       "4  B-MISC O O O O O O O O O O O B-LOC O O B-MISC ...   \n",
       "\n",
       "                                                text  \n",
       "0  EU rejects German call to boycott British lamb...  \n",
       "1  Rare Hendrix song draft sells for almost $ 17,...  \n",
       "2  China says Taiwan spoils atmosphere for talks ...  \n",
       "3  China says time right for Taiwan talks . </S> ...  \n",
       "4  German July car registrations up 14.2 pct yr /...  "
      ]
     },
     "execution_count": 10,
     "metadata": {},
     "output_type": "execute_result"
    }
   ],
   "source": [
    "train_set.head()"
   ]
  },
  {
   "cell_type": "code",
   "execution_count": 11,
   "metadata": {},
   "outputs": [
    {
     "data": {
      "text/html": [
       "<div>\n",
       "<style scoped>\n",
       "    .dataframe tbody tr th:only-of-type {\n",
       "        vertical-align: middle;\n",
       "    }\n",
       "\n",
       "    .dataframe tbody tr th {\n",
       "        vertical-align: top;\n",
       "    }\n",
       "\n",
       "    .dataframe thead th {\n",
       "        text-align: right;\n",
       "    }\n",
       "</style>\n",
       "<table border=\"1\" class=\"dataframe\">\n",
       "  <thead>\n",
       "    <tr style=\"text-align: right;\">\n",
       "      <th></th>\n",
       "      <th>labels</th>\n",
       "      <th>text</th>\n",
       "    </tr>\n",
       "  </thead>\n",
       "  <tbody>\n",
       "    <tr>\n",
       "      <th>0</th>\n",
       "      <td>O O B-ORG O O O O O O O O O B-LOC O O B-MISC I...</td>\n",
       "      <td>CRICKET - LEICESTERSHIRE TAKE OVER AT TOP AFTE...</td>\n",
       "    </tr>\n",
       "    <tr>\n",
       "      <th>1</th>\n",
       "      <td>O O B-MISC I-MISC I-MISC O O O B-LOC O O O O O...</td>\n",
       "      <td>CRICKET - ENGLISH COUNTY CHAMPIONSHIP SCORES ....</td>\n",
       "    </tr>\n",
       "    <tr>\n",
       "      <th>2</th>\n",
       "      <td>O O O B-MISC O O O B-LOC O O B-LOC O O O B-MIS...</td>\n",
       "      <td>CRICKET - 1997 ASHES INTINERARY . &lt;/S&gt; LONDON ...</td>\n",
       "    </tr>\n",
       "    <tr>\n",
       "      <th>3</th>\n",
       "      <td>O O B-PER O O B-LOC O O O B-LOC O O O O O O O ...</td>\n",
       "      <td>SOCCER - SHEARER NAMED AS ENGLAND CAPTAIN . &lt;/...</td>\n",
       "    </tr>\n",
       "    <tr>\n",
       "      <th>4</th>\n",
       "      <td>O O O O O O O B-LOC O O O O O O O O O O O O O ...</td>\n",
       "      <td>BASKETBALL - INTERNATIONAL TOURNAMENT RESULT ....</td>\n",
       "    </tr>\n",
       "  </tbody>\n",
       "</table>\n",
       "</div>"
      ],
      "text/plain": [
       "                                              labels  \\\n",
       "0  O O B-ORG O O O O O O O O O B-LOC O O B-MISC I...   \n",
       "1  O O B-MISC I-MISC I-MISC O O O B-LOC O O O O O...   \n",
       "2  O O O B-MISC O O O B-LOC O O B-LOC O O O B-MIS...   \n",
       "3  O O B-PER O O B-LOC O O O B-LOC O O O O O O O ...   \n",
       "4  O O O O O O O B-LOC O O O O O O O O O O O O O ...   \n",
       "\n",
       "                                                text  \n",
       "0  CRICKET - LEICESTERSHIRE TAKE OVER AT TOP AFTE...  \n",
       "1  CRICKET - ENGLISH COUNTY CHAMPIONSHIP SCORES ....  \n",
       "2  CRICKET - 1997 ASHES INTINERARY . </S> LONDON ...  \n",
       "3  SOCCER - SHEARER NAMED AS ENGLAND CAPTAIN . </...  \n",
       "4  BASKETBALL - INTERNATIONAL TOURNAMENT RESULT ....  "
      ]
     },
     "execution_count": 11,
     "metadata": {},
     "output_type": "execute_result"
    }
   ],
   "source": [
    "val_set.head()"
   ]
  },
  {
   "cell_type": "code",
   "execution_count": 12,
   "metadata": {},
   "outputs": [
    {
     "data": {
      "text/html": [
       "<div>\n",
       "<style scoped>\n",
       "    .dataframe tbody tr th:only-of-type {\n",
       "        vertical-align: middle;\n",
       "    }\n",
       "\n",
       "    .dataframe tbody tr th {\n",
       "        vertical-align: top;\n",
       "    }\n",
       "\n",
       "    .dataframe thead th {\n",
       "        text-align: right;\n",
       "    }\n",
       "</style>\n",
       "<table border=\"1\" class=\"dataframe\">\n",
       "  <thead>\n",
       "    <tr style=\"text-align: right;\">\n",
       "      <th></th>\n",
       "      <th>text</th>\n",
       "    </tr>\n",
       "  </thead>\n",
       "  <tbody>\n",
       "    <tr>\n",
       "      <th>0</th>\n",
       "      <td>SOCCER - JAPAN GET LUCKY WIN , CHINA IN SURPRI...</td>\n",
       "    </tr>\n",
       "    <tr>\n",
       "      <th>1</th>\n",
       "      <td>RUGBY UNION - CUTTITTA BACK FOR ITALY AFTER A ...</td>\n",
       "    </tr>\n",
       "    <tr>\n",
       "      <th>2</th>\n",
       "      <td>SOCCER - LATE GOALS GIVE JAPAN WIN OVER SYRIA ...</td>\n",
       "    </tr>\n",
       "    <tr>\n",
       "      <th>3</th>\n",
       "      <td>FREESTYLE SKIING-WORLD CUP MOGUL RESULTS . &lt;/S...</td>\n",
       "    </tr>\n",
       "    <tr>\n",
       "      <th>4</th>\n",
       "      <td>SOCCER - ASIAN CUP GROUP C RESULTS . &lt;/S&gt; AL-A...</td>\n",
       "    </tr>\n",
       "  </tbody>\n",
       "</table>\n",
       "</div>"
      ],
      "text/plain": [
       "                                                text\n",
       "0  SOCCER - JAPAN GET LUCKY WIN , CHINA IN SURPRI...\n",
       "1  RUGBY UNION - CUTTITTA BACK FOR ITALY AFTER A ...\n",
       "2  SOCCER - LATE GOALS GIVE JAPAN WIN OVER SYRIA ...\n",
       "3  FREESTYLE SKIING-WORLD CUP MOGUL RESULTS . </S...\n",
       "4  SOCCER - ASIAN CUP GROUP C RESULTS . </S> AL-A..."
      ]
     },
     "execution_count": 12,
     "metadata": {},
     "output_type": "execute_result"
    }
   ],
   "source": [
    "test_set.head()"
   ]
  },
  {
   "cell_type": "code",
   "execution_count": 13,
   "metadata": {},
   "outputs": [
    {
     "name": "stdout",
     "output_type": "stream",
     "text": [
      "Length of train_tokens: 945\n",
      "Length of val_tokens: 215\n",
      "Length of test_tokens: 230\n"
     ]
    }
   ],
   "source": [
    "train_tokens = train_set[\"text\"].apply(lambda x : x.split())\n",
    "train_labels = train_set[\"labels\"].apply(lambda x : x.split())\n",
    "\n",
    "val_tokens = val_set[\"text\"].apply(lambda x : x.split())\n",
    "val_labels = val_set[\"labels\"].apply(lambda x : x.split())\n",
    "\n",
    "test_tokens = test_set[\"text\"].apply(lambda x : x.split())\n",
    "\n",
    "assert len(train_tokens) == len(train_labels)\n",
    "assert len(val_tokens) == len(val_labels)\n",
    "\n",
    "print('Length of train_tokens:', len(train_tokens))\n",
    "print('Length of val_tokens:', len(val_tokens))\n",
    "print('Length of test_tokens:', len(test_tokens))"
   ]
  },
  {
   "cell_type": "code",
   "execution_count": 14,
   "metadata": {},
   "outputs": [],
   "source": [
    "def build_vocab(dataset):\n",
    "    counter = Counter()\n",
    "    for document in dataset:\n",
    "        counter.update(document)\n",
    "    return vocab(counter, specials=[\"<unk>\", \"<pad>\", \"<bos>\", \"<eos>\"])\n",
    "    "
   ]
  },
  {
   "cell_type": "code",
   "execution_count": 15,
   "metadata": {},
   "outputs": [
    {
     "data": {
      "text/plain": [
       "['<unk>',\n",
       " '<pad>',\n",
       " '<bos>',\n",
       " '<eos>',\n",
       " 'EU',\n",
       " 'rejects',\n",
       " 'German',\n",
       " 'call',\n",
       " 'to',\n",
       " 'boycott']"
      ]
     },
     "execution_count": 15,
     "metadata": {},
     "output_type": "execute_result"
    }
   ],
   "source": [
    "v = build_vocab(train_tokens)\n",
    "v.set_default_index(v[\"<unk>\"])\n",
    "\n",
    "itos = v.get_itos()\n",
    "\n",
    "itos[:10]"
   ]
  },
  {
   "cell_type": "code",
   "execution_count": 16,
   "metadata": {},
   "outputs": [],
   "source": [
    "def data_process(dt):\n",
    "    return [\n",
    "        torch.tensor(\n",
    "            [v[\"<bos>\"]] + [v[token] for token in document] + [v[\"<eos>\"]],\n",
    "            dtype=torch.long,\n",
    "        )\n",
    "        for document in dt\n",
    "    ]\n",
    "\n",
    "def labels_process(dt):\n",
    "    return [torch.tensor([0] + document + [0], dtype=torch.long) for document in dt]"
   ]
  },
  {
   "cell_type": "code",
   "execution_count": 17,
   "metadata": {},
   "outputs": [],
   "source": [
    "names= {\n",
    "        \"O\" : 0,\n",
    "        \"B-PER\" : 1,\n",
    "        \"I-PER\" : 2,\n",
    "        \"B-ORG\" : 3,\n",
    "        \"I-ORG\" : 4,\n",
    "        \"B-LOC\" : 5,\n",
    "        \"I-LOC\" : 6,\n",
    "        \"B-MISC\" : 7,\n",
    "        \"I-MISC\" : 8,\n",
    "}"
   ]
  },
  {
   "cell_type": "code",
   "execution_count": 18,
   "metadata": {},
   "outputs": [],
   "source": [
    "def covert_to_int(dt, tags):\n",
    "    labels = []\n",
    "    for label in dt:\n",
    "        labels.append([tags[i] for i in label])\n",
    "    return labels"
   ]
  },
  {
   "cell_type": "code",
   "execution_count": 19,
   "metadata": {},
   "outputs": [],
   "source": [
    "train_tokens_ids = data_process(train_tokens)\n",
    "train_labels_ids = labels_process(covert_to_int(train_labels, tags=names))\n",
    "\n",
    "val_tokens_ids = data_process(val_tokens)\n",
    "val_labels_ids = labels_process(covert_to_int(val_labels, tags=names))\n",
    "\n",
    "test_tokens_ids = data_process(test_tokens)"
   ]
  },
  {
   "cell_type": "code",
   "execution_count": 20,
   "metadata": {},
   "outputs": [],
   "source": [
    "class LSTM(torch.nn.Module):\n",
    "\n",
    "    def __init__(self, num_tags):\n",
    "        super(LSTM, self).__init__()\n",
    "        self.emb = torch.nn.Embedding(len(v.get_itos()), 100)\n",
    "        self.rec = torch.nn.LSTM(100, 256, 1, batch_first=True)\n",
    "        self.fc1 = torch.nn.Linear(256, num_tags)\n",
    "\n",
    "    def forward(self, x):\n",
    "        emb = torch.relu(self.emb(x))\n",
    "        lstm_output, (h_n, c_n) = self.rec(emb)\n",
    "        out_weights = self.fc1(lstm_output)\n",
    "        return out_weights"
   ]
  },
  {
   "cell_type": "code",
   "execution_count": 32,
   "metadata": {},
   "outputs": [],
   "source": [
    "EPOCHS = 10\n",
    "LR = 0.001\n",
    "NUM_TAGS = len(names)"
   ]
  },
  {
   "cell_type": "code",
   "execution_count": 21,
   "metadata": {},
   "outputs": [],
   "source": [
    "model = LSTM(num_tags=NUM_TAGS)\n",
    "optimizer = torch.optim.Adam(model.parameters(), lr=LR)\n",
    "criterion = torch.nn.CrossEntropyLoss()"
   ]
  },
  {
   "cell_type": "code",
   "execution_count": 22,
   "metadata": {},
   "outputs": [
    {
     "name": "stdout",
     "output_type": "stream",
     "text": [
      "\n",
      "Epoch: 0 \n",
      "\n",
      "Train loss: 0.6237388463720442\n",
      "Train accuracy: 0.8464758833069116\n",
      "\n",
      "Val accuracy: 0.8575231080563709\n",
      "\n",
      "Epoch: 1 \n",
      "\n",
      "Train loss: 0.4015273840733306\n",
      "Train accuracy: 0.8781045572987846\n",
      "\n",
      "Val accuracy: 0.8939855244207033\n",
      "\n",
      "Epoch: 2 \n",
      "\n",
      "Train loss: 0.27967684826365224\n",
      "Train accuracy: 0.9128263998979573\n",
      "\n",
      "Val accuracy: 0.9130735993874314\n",
      "\n",
      "Epoch: 3 \n",
      "\n",
      "Train loss: 0.20315357111788615\n",
      "Train accuracy: 0.9354215638040052\n",
      "\n",
      "Val accuracy: 0.9168292282729577\n",
      "\n",
      "Epoch: 4 \n",
      "\n",
      "Train loss: 0.14831078523848817\n",
      "Train accuracy: 0.9521948286229706\n",
      "\n",
      "Val accuracy: 0.9239393994640025\n",
      "\n",
      "Epoch: 5 \n",
      "\n",
      "Train loss: 0.10755618058007073\n",
      "Train accuracy: 0.9645037263798538\n",
      "\n",
      "Val accuracy: 0.9312136515286868\n",
      "\n",
      "Epoch: 6 \n",
      "\n",
      "Train loss: 0.07571866279640407\n",
      "Train accuracy: 0.974138559376082\n",
      "\n",
      "Val accuracy: 0.9325627609341671\n",
      "\n",
      "Epoch: 7 \n",
      "\n",
      "Train loss: 0.05353337679863365\n",
      "Train accuracy: 0.9810765502286849\n",
      "\n",
      "Val accuracy: 0.9166651473993181\n",
      "\n",
      "Epoch: 8 \n",
      "\n",
      "Train loss: 0.0376968718130787\n",
      "Train accuracy: 0.9861194628182001\n",
      "\n",
      "Val accuracy: 0.9405662613261381\n",
      "\n",
      "Epoch: 9 \n",
      "\n",
      "Train loss: 0.025749314972076307\n",
      "Train accuracy: 0.9902740574718927\n",
      "\n",
      "Val accuracy: 0.9334196277187289\n"
     ]
    }
   ],
   "source": [
    "for i in range(EPOCHS):\n",
    "    print(f'\\nEpoch: {i} \\n')\n",
    "\n",
    "    model.train()\n",
    "\n",
    "    train_true, train_pred = [], []\n",
    "    running_loss = 0.0\n",
    "\n",
    "    for i in range(len(train_labels)):\n",
    "        batch_tokens = train_tokens_ids[i].unsqueeze(0)\n",
    "        tags = train_labels_ids[i].unsqueeze(1)\n",
    "        \n",
    "        predicted_tags = model(batch_tokens)\n",
    "\n",
    "        train_true += list(tags.squeeze(1).numpy())\n",
    "        train_pred += list(torch.argmax(predicted_tags.squeeze(0), 1).numpy())\n",
    "\n",
    "        optimizer.zero_grad()\n",
    "        loss = criterion(predicted_tags.squeeze(0), tags.squeeze(1))\n",
    "\n",
    "        loss.backward()\n",
    "        optimizer.step()\n",
    "\n",
    "        running_loss += loss.item()\n",
    "\n",
    "    print(f'Train loss: {running_loss / len(train_labels)}')\n",
    "    print(f'Train accuracy: {accuracy_score(train_true, train_pred)}\\n')\n",
    "    \n",
    "    model.eval()\n",
    "    \n",
    "    val_true, val_pred = [], []\n",
    "\n",
    "    with torch.no_grad():\n",
    "        for i in range(len(val_labels_ids)):\n",
    "            batch_tokens = val_tokens_ids[i].unsqueeze(0)\n",
    "            tags = list(val_labels_ids[i].numpy())\n",
    "            val_true += tags\n",
    "\n",
    "            Y_batch_pred_weights = model(batch_tokens).squeeze(0)\n",
    "            Y_batch_pred = torch.argmax(Y_batch_pred_weights, 1)\n",
    "            val_pred += list(Y_batch_pred.numpy())\n",
    "    \n",
    "\n",
    "    print(f'Val accuracy: {accuracy_score(val_true, val_pred)}')\n",
    "    "
   ]
  },
  {
   "cell_type": "code",
   "execution_count": 31,
   "metadata": {},
   "outputs": [],
   "source": [
    "def save_prediction(test_tokens, test_pred, file_name):\n",
    "    with open(file_name, 'w') as f:\n",
    "        for i in range(len(test_tokens)):\n",
    "            for j in range(len(test_tokens[i])):\n",
    "                f.write(f'{test_tokens[i][j]}\\t{list(names.keys())[test_pred[i][j]]}\\n')\n",
    "            f.write('\\n')"
   ]
  },
  {
   "cell_type": "code",
   "execution_count": 30,
   "metadata": {},
   "outputs": [],
   "source": [
    "test_pred = []\n",
    "val_pred = []\n",
    "\n",
    "with torch.no_grad():\n",
    "    for i in range(len(val_tokens_ids)):\n",
    "        batch_tokens = val_tokens_ids[i].unsqueeze(0)\n",
    "        Y_batch_pred_weights = model(batch_tokens).squeeze(0)\n",
    "        Y_batch_pred = torch.argmax(Y_batch_pred_weights, 1)\n",
    "        val_pred.append(Y_batch_pred.numpy())\n",
    "\n",
    "with torch.no_grad():\n",
    "    for i in range(len(test_tokens_ids)):\n",
    "        batch_tokens = test_tokens_ids[i].unsqueeze(0)\n",
    "        Y_batch_pred_weights = model(batch_tokens).squeeze(0)\n",
    "        Y_batch_pred = torch.argmax(Y_batch_pred_weights, 1)\n",
    "        test_pred.append(Y_batch_pred.numpy())\n",
    "\n",
    "save_prediction(test_tokens, test_pred, 'test-A/out.tsv')\n",
    "save_prediction(val_tokens, val_pred, 'dev-0/out.tsv')"
   ]
  }
 ],
 "metadata": {
  "kernelspec": {
   "display_name": "dl",
   "language": "python",
   "name": "python3"
  },
  "language_info": {
   "codemirror_mode": {
    "name": "ipython",
    "version": 3
   },
   "file_extension": ".py",
   "mimetype": "text/x-python",
   "name": "python",
   "nbconvert_exporter": "python",
   "pygments_lexer": "ipython3",
   "version": "3.10.14"
  }
 },
 "nbformat": 4,
 "nbformat_minor": 2
}
