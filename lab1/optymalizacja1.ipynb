{
 "cells": [
  {
   "cell_type": "code",
   "execution_count": 3,
   "id": "3a1e7979",
   "metadata": {},
   "outputs": [
    {
     "data": {
      "text/html": [
       "<style>.container { width:100% !important; }</style>"
      ],
      "text/plain": [
       "<IPython.core.display.HTML object>"
      ]
     },
     "metadata": {},
     "output_type": "display_data"
    }
   ],
   "source": [
    "from IPython.core.display import display, HTML\n",
    "display(HTML(\"<style>.container { width:100% !important; }</style>\"))"
   ]
  },
  {
   "cell_type": "markdown",
   "id": "00195c47",
   "metadata": {},
   "source": [
    "# Zagadnienie optymalizacji"
   ]
  },
  {
   "cell_type": "markdown",
   "id": "eec33018",
   "metadata": {},
   "source": [
    "Rozważmy problem optymalizacyjny \n",
    "\\begin{equation} \\label{opte1eq1} \\left\\{ \\begin{array}{l} f(x)\\rightarrow min\\\\ x\\in W&& \\end{array} \\right. \\end{equation} gdzie $W\\subset \\mathbb{R}^n$, $f:W\\rightarrow \\mathbb{R}$\n"
   ]
  },
  {
   "cell_type": "markdown",
   "id": "eadeb404",
   "metadata": {},
   "source": [
    "\\begin{definition}[Stożek kierunków stycznych] Stożkiem kierunków stycznych w punkcie $\\overline{x}\\in W$ nazywamy zbiór wektorów \\begin{equation} \\label{opteq2} \n",
    "T(\\overline{x})=\\left\\{ d\\in \\mathbb{R^n}:\\ d=\\lambda_k(x_k-\\overline{x}),\\ (x_k)\\subset W,\\ x_k\\rightarrow \\overline{x}\\right\\} \\end{equation}\n",
    "\\end{definition}"
   ]
  },
  {
   "cell_type": "markdown",
   "id": "8c993cc3",
   "metadata": {},
   "source": [
    "Poniższy rysunek pokazuje przykładowe wektory dla dwóch punktów $\\overline{x}$. Punkt czarny należy do wnętrza $W$ zatem jego stożek kierunków stycznych jest równy $\\mathbb{R^2}$ - na rysunku pokazano dwa przykładowe ciągi zbieżne do   $\\overline{x}$.\n",
    "W przypadku różowego  $\\overline{x}\\in \\partial{W}$ stożek jest ograniczony - graniczne kierunki wyznacza w tym przypadku prosta styczna (punkt  $\\overline{x}$ jest punktem gładkości brzegu $W$). Wektor jasnoniebieski nie należy już do stożka w tym punkcie, w odróżnieniu od wektora zielonego i pomarańczowego."
   ]
  },
  {
   "cell_type": "code",
   "execution_count": 4,
   "id": "ee0fdd74",
   "metadata": {
    "scrolled": false
   },
   "outputs": [
    {
     "data": {
      "image/png": "[encoded data removed]",
      "text/plain": [
       "<wand.image.Image: 4c19f32 'PDF' (580x565)>"
      ]
     },
     "execution_count": 4,
     "metadata": {},
     "output_type": "execute_result"
    }
   ],
   "source": [
    "from wand.image import Image as WImage\n",
    "img = WImage(filename='nn_images/stozekkierunkowstycznych.pdf', resolution=150) \n",
    "img"
   ]
  },
  {
   "cell_type": "markdown",
   "id": "bbdec55c",
   "metadata": {},
   "source": [
    "\\begin{lemma}\n",
    "\\begin{enumerate}\n",
    "\\item $T(\\overline{x})$ jest stożkiem, tzn. \n",
    "$$\n",
    "\\forall \\lambda \\geq 0\\ \\ \\forall d\\in \\lambda\\ d\\in T(\\overline{x})\\ \\ \\lambda\\,d\\in T(\\overline{x}) \n",
    "$$\n",
    "\\item Jeżeli $\\overline{x}\\in Int(W)$, to  $T(\\overline{x})=\\mathbb{R}^n$\n",
    "\\item Stożek $T(\\overline{x})$ jest domknięty\n",
    "\\end{enumerate}\n",
    "\\end{lemma}"
   ]
  },
  {
   "cell_type": "markdown",
   "id": "88c10059",
   "metadata": {},
   "source": [
    "\\begin{definition}\n",
    "Niech $f:X\\rightarrow \\mathbb{R}$ będzie różniczkowalna w $\\overline{x}\\in X$. \\textbf{Zbiorem kierunków spadku funkcji} $f$ \\textbf{ w punkcie} $\\overline{x}$ nazywamy zbiór\n",
    "    \\begin{equation}\n",
    "    \\label{opteq3}\n",
    "    D(\\overline{x})=\\left\\{d\\in\\mathbb{R}^n:\\ Df(\\overline{x})\\cdot d <0\\right\\}\n",
    "    \\end{equation}\n",
    "\\end{definition}"
   ]
  },
  {
   "cell_type": "markdown",
   "id": "fa9ab806",
   "metadata": {},
   "source": [
    "Definicja ta jest oczywista, bo oznacza po prostu, że pochodna kierunkowa w kierunku $d$ jest w punkcie $\\overline{x}$ ujemna ($Df(x)$ oznacza gradient funkcji $f$ w punkcie $x$). "
   ]
  },
  {
   "cell_type": "markdown",
   "id": "bffea293",
   "metadata": {},
   "source": [
    "\\begin{remark}\n",
    "Jeżeli $d$ jest kierunkiem spadku w punkcie $x$, to istnieje $\\delta > 0$, takie że dla $\\alpha \\in  (0, \\delta)$ zachodzi $f(x + \\alpha d) < f(x)$.\n",
    "\\end{remark}"
   ]
  },
  {
   "cell_type": "markdown",
   "id": "18429cb8",
   "metadata": {},
   "source": [
    "Jest to dość naturalne przy założeniu różniczkowalności funcji: jeżeli w jakimś miejscu i w jakiś kierunku funkcja maleje, to maleje ona jeszcze w pewnym obszarze wzdłuż tego \n",
    "kierunku. "
   ]
  },
  {
   "cell_type": "markdown",
   "id": "ca41e7e5",
   "metadata": {},
   "source": [
    "\\begin{theorem}Jeżeli $\\overline{x}$ jest rozwiązaniem lokalnym problemu \\textbf{(1)} oraz  $f:W\\rightarrow \\mathbb{R}$ jest różniczkowalna w $\\overline{x}\\in W$, to $D(\\overline{x})\\cap T(\\overline{x})=\\emptyset$.\\end{theorem}"
   ]
  },
  {
   "cell_type": "markdown",
   "id": "3dcc9ea4",
   "metadata": {},
   "source": [
    "Powyższe twierdzenie mówi po prostu, że w punkcie osiągniecia minimum nie można już zmniejszać wartości funkcji bez opuszczenia zbioru $W$"
   ]
  },
  {
   "cell_type": "markdown",
   "id": "352f6223",
   "metadata": {},
   "source": [
    "## 1. Przybliżone rozwiązanie układu równań liniowych\n",
    "\n",
    "Szukamy rozwiązania  układu \n",
    "$$\n",
    " \\mathbf X \\mathbf w = \\mathbf y\n",
    "$$\n",
    "\n",
    "Jeżeli dokładne rozwiązanie nie istnieje i układ jest niesprzeczny można spróbować rozwiązać go w sposób przybliżony.\n",
    "\n",
    "Założmy, że  $\\mathbf w$ będzie najlepszym rozwiązaniem przybliżonym, tzn.  $$X \\mathbf w \\approx \\mathbf y$$ oraz że błąd przybliżenia \n",
    "$$\\mathbf e = \\mathbf y - \\mathbf X \\mathbf w$$ jest możliwie mały. Ustalmy, że mierzymy go normą euklidesową, tzn. minimalizujemy operator $\\mathbf  J(\\mathbf w)$ taki, że \n",
    "$$J(\\mathbf w) = \\| \\mathbf e \\|^2 = \\| \\mathbf y - \\mathbf X \\mathbf w \\|^2 = (\\mathbf y-\\mathbf X \\mathbf w)^T(\\mathbf y-\\mathbf X \\mathbf w) = \\mathbf y^T \\mathbf y - (\\mathbf X \\mathbf w)^T \\mathbf y - \\mathbf y^T (X \\mathbf w) + (X \\mathbf w)^T (X \\mathbf w) = \\mathbf y^T \\mathbf y - 2 \\mathbf w^T X^T \\mathbf y + \\mathbf w^T X^T X \\mathbf w$$\n",
    "Zatem warunek konieczny ekstremum oznacza, że\n",
    "$$\n",
    "\\frac{\\partial J(\\mathbf w)}{\\partial \\mathbf w} = - 2 X^T \\mathbf y + 2 X^T X \\mathbf w = \\mathbf 0\n",
    "$$\n",
    "Stąd \n",
    "$$X^T X \\mathbf w = X^T \\mathbf y,$$\n",
    "a zatem \n",
    "$$\\mathbf w = (X^T X)^{-1} X^T \\mathbf y = X^+ \\mathbf y$$\n",
    "Macierz  $X^+ = (X^T X)^{-1} X^T$ jest dobrze znaną uogólnioną odwrotnością Moora-Penrosa. Jednak  równanie (11) może być zapisane jeżeli macierz $X^TX$ jest odwracalna. Czy zawsze tak jest? Po pierwsze zawsze macierz ta jest symetryczna. Po drugie jeżeli kolumny macierzy $X$ są liniowo niezależne, to macierz $X^TX$ jest odwracalna (pokazanie tego jest ćwiczeniem dla czytelnika). Odpowiedź ogólna wynika z poniższego twierdzenia\n",
    "\n",
    "\\begin{theorem}\n",
    "Każdy układ liniowy $A\\mathbf x = \\mathbf b$, gdzie\n",
    "$A$ jest macierzą wymiaru  $m × n$, ma jednoznaczne rozwiązanie  $\\mathbf x^+$ będące  elementem minimalizującym normę kwadratową błędu $\\|A\\mathbf x- \\mathbf b\\|^2$. Ponadto $\\mathbf x^+ = A^+\\mathbf b = UD^+V^T \\mathbf b$, gdzie $A=VDU^T$ jest rozkładem SVD macierzy $A$, natomiast $D^+$ posiada odwrócone (w sensie mnożenia) niezerowe elementy macierzy $D$.\n",
    "\\end{theorem}\n",
    "\n",
    "Jeżeli $A$ jest macierzą rzędu $n$ (więc $m\\geq n$), to rozwiązanie da się wyrazić w postaci rozkładu QR macierzy $A$ (czyli przez zastosowanie przekształceń Hausholdera)\n",
    "\n"
   ]
  },
  {
   "cell_type": "markdown",
   "id": "ff6bd2ab",
   "metadata": {},
   "source": [
    "## 2. Metody spadkowe\n",
    "\n",
    "Rozpatrzmy najpierw przypadek \\textbf{ optymalizacji bez ograniczeń}, tzn. w szczególności zakładamy, że w problemie optymalizacyjnym \\textbf{(1)} zbiór $W=\\mathbb{R}^n$. \n",
    "Ponadto chcemy zbudować algorytm jego rozwiązania w oparciu o kierunki spadku, tzn.  zakładamy dodatkowo, że funkcja $f : \\mathbb{R}^n \\rightarrow \\mathbb{R}$ jest klasy $C^1$.\n",
    "Kolejnym ułatwieniem w budowie algorytmu jest przyjęcie, że szukamy \\textbf{rozwiązania lokalnego}, tzn. potencjalnie jednego w wielu minimów fukcji $f$.\n",
    "Ogólny schemat takich metod jest następujący:\n",
    "\\begin{enumerate}\n",
    "\\item Startujemy z punktu poczatkowego $x_1$, o którym zakładamy, że znajduje sie blisko szukanego minimum lokalnego.\n",
    "\\item W kolejnych krokach generujemy punkty $x_2,\\ x_3,\\dots$ w ten sposób, aby $f(x_{k+1}) < f(x_k)$. \n",
    "\\item Spodziewamy się, że w ten sposób dojdziemy do minimum $f$. Może sie jednak okazać, ze punkty skupienia ciagu $(x_k)$ nie będę rozwiązaniami\n",
    "\\end{enumerate}"
   ]
  },
  {
   "cell_type": "markdown",
   "id": "84513dc6",
   "metadata": {},
   "source": [
    "\\begin{definition}[Metoda spadkowa] Metodą spadkową nazywamy każdy algorytm w którym kolejny punkt $x_{k+1}$ zadany jest\n",
    "wzorem\n",
    "$$\n",
    "x_{k+1} = x_k + \\alpha_k\\,d_k,\n",
    "$$\n",
    "gdzie $\\alpha_k > 0$ oraz $d_k$ jest kierunkiem spadku, tzn.\n",
    "$$\n",
    "\\begin{array}{ll}\n",
    "Df(x_k)\\cdot d_k < 0& \\hbox{ jeżeli } Df(x_k) \\not= 0,\\\\\n",
    "d_k = 0, & \\hbox{ jeżeli } Df(x_k) = 0.\n",
    "\\end{array}\n",
    "$$\n",
    "\\end{definition}"
   ]
  },
  {
   "cell_type": "markdown",
   "id": "65f6d0f8",
   "metadata": {},
   "source": [
    "Z Uwagi 1 (Remark 1) wynika, że dl dostatecznie małych $\\alpha_k$ możemy przyjąć, że $f(x_{k+1})<f(x_k)$."
   ]
  },
  {
   "cell_type": "markdown",
   "id": "1bbcf66d",
   "metadata": {},
   "source": [
    "## 2.1 Metody największego spadku\n",
    "\n",
    "Wiadomo, że kierunkiem najszybszego spadku wartości funkcji jest jej odwrócony gradient. W przypadku metod największeg spadku przyjmujemy więc, że rozpatrywanymi kierunkami spadku będą kierunki równoległe do gradientu. Schemat takich metod jest następujący:\n",
    "\n",
    "\\begin{enumerate}\n",
    "\\item \\textbf{Inicjalizacja}: Wybierz punkt poczatkowy $x_1$.\n",
    "\\item \\textbf{Krok k-ty}:\n",
    "\\begin{enumerate}\n",
    "\\item Wybierz $\\alpha_k$.\n",
    "\\item Oblicz $x_{k+1} = x_k − \\alpha_kDf(x_k)$\n",
    "\\end{enumerate}\n",
    "\\item \\textbf{Koniec}: gdy $\\|Df(x_{k+1})\\|<\\varepsilon$\n",
    "\\end{enumerate}\n",
    "\n",
    "W istocie logika tej metody staje się oczywista, jeżeli spojrzymy na nią przez pryzmat równania drogi w zagadnieniach ruchu. Zmienna $x$ reprezentuje wówczas współrzędne drogi, indeks $k$ jest skwantowaną daną czasową, funkcja $f$ reprezentuje równanie położenia względem czasu, a gradient jest wówczas prędkością ruchu (styczna do równania wykresu równania drogi). Współczynnik $\\alpha$ można interpretować jako skalę prędkości, przyjmując normalizację wektora gradientu. "
   ]
  },
  {
   "cell_type": "markdown",
   "id": "689fc0d1",
   "metadata": {},
   "source": [
    "Bardziej szczegółowa klasyfikacja  metod największego spadku wynika z wyboru wartości $\\alpha_k$ ($d_k$ oznacza odwrócony gradient$) \n",
    "\\begin{enumerate}\n",
    "\\item \\textbf{reguła dokładnej minimalizacji}: wybierz $\\alpha_k$ takie, że\n",
    "    $$\n",
    "        f(x_k+\\alpha_kd_k) = min_{\\alpha\\geq 0}f(x_k+\\alpha d_k)\n",
    "    $$\n",
    "    Reguła dokładnej minimalizacji jest dobrze określona, jeżeli minimum po prawej stronie istnieje.\n",
    "Ze względu na nieograniczoność przedziału, na którym poszukujemy minimum, reguła dokładnej\n",
    "minimalizacji nie zawsze musi być dobrze określona\n",
    "\\item \\textbf{reguła ograniczonej minimalizacji}: ustal $A>0$ oraz wybierz $\\alpha_k$ takie, że\n",
    "    $$\n",
    "        f(x_k+\\alpha_kd_k) = min_{\\alpha \\in[0, A]}f(x_k+\\alpha d_k)\n",
    "    $$\n",
    "    Ograniczenie przedziału poszukiwań kroku $\\alpha_k$ do $[0,A]$ gwarantuje istnienie  rozwiązania, gdyż minimalizujemy funkcję ciągłą na zbiorze zwartym. Po drugie, możemy zastosować szybsze metody poszukiwania.\n",
    "minimum.\n",
    "\\item \\textbf{reguła Armijo}: ustal $s>0$, $\\beta,\\sigma\\in(0,1)$ oraz wybierz $\\alpha_k=\\beta^{m_k}s$, gdzie $m_k$ jest najmniejszą liczbą całkowitą $m$ spełniającą nierówność\n",
    "    \\begin{equation}\n",
    "    \\label{opteq4}\n",
    "        f(x_k)- f(x_k+\\beta^{m}s d_k) \\geq -\\sigma\\beta^m s Df(x_k)\\cdot d_k.\n",
    "    \\end{equation}\n",
    " Oznacza to, ze dla $m_k − 1$ zachodzi już nierówność przeciwna   \n",
    "    $$\n",
    "        f(x_k)- f(x_k+\\beta^{m_k-1}s d_k) < -\\sigma\\beta^{m_k-1} s Df(x_k)\\cdot d_k.\n",
    "    $$\n",
    " Stała $s > 0$ nazywana jest krokiem, $\\beta$ reguluje szybkość zmniejszania kroku (czym mniejsza\n",
    "wartosc, tym szybciej krok sie zmniejsza), zas $\\sigma$ odpowiedzialna jest za ostrość warunku:\n",
    "mniejsza wartosc osłabia warunek. Dodatkowo, ponieważ dla metody najwiekszego spadku \n",
    "$dk = -Df(x_k)$, więc $Df(x_k)\\cdot d_k=\\|Df(x_k)\\|^2$ i  nierówność (9) ma postać\n",
    "\\begin{equation}\n",
    "\\label{opteq5}\n",
    "f(x_k)- f(x_k+\\beta^{m}s d_k) \\geq -\\sigma\\beta^m s \\|Df(x_k)\\|^2.\n",
    "\\end{equation}\n",
    "\\end{enumerate}"
   ]
  },
  {
   "cell_type": "markdown",
   "id": "45e5c466",
   "metadata": {},
   "source": [
    "Poniższy rysunek ilustruje regułę Armijo. Startujemy z punktu $x_k-sDf(x_k)$ i sprawdzamy, czy spełniony jest warunek (11). Jeżeli nie, to rozważamy punkty $x_k-\\beta sDf(x_k)$, $x_k-\\beta^2 sDf(x_k)$, itd.  Dla kroków $\\alpha = s$ i $\\alpha = \\beta s$ warunek (11)\n",
    "nie jest spełniony. Krok $\\alpha= \\beta^2s$ jest pierwszym, dla którego (11) zachodzi, wiec $\\alpha_k = \\beta^2s$."
   ]
  },
  {
   "cell_type": "code",
   "execution_count": 5,
   "id": "3f9a960e",
   "metadata": {},
   "outputs": [
    {
     "data": {
      "image/png": "[encoded data removed]",
      "text/plain": [
       "<wand.image.Image: 9afe774 'PDF' (1125x636)>"
      ]
     },
     "execution_count": 5,
     "metadata": {},
     "output_type": "execute_result"
    }
   ],
   "source": [
    "img = WImage(filename='nn_images/armijo.pdf', resolution=70) \n",
    "img"
   ]
  },
  {
   "cell_type": "markdown",
   "id": "00466bd8",
   "metadata": {},
   "source": [
    "\\begin{theorem}\n",
    "Niech $(x_k)$ będzie ciągiem skonstruowanym przy pomocy metody największego\n",
    "spadku z regułą dokładnej  minimalizacji, regułą minimalizacji ograniczonej lub reguła Armijo. Wówczas\n",
    "każdy punkt skupienia $x$ tego ciągu jest punktem krytycznym, tzn. $Df(x)=0$.\n",
    "\\end{theorem}"
   ]
  },
  {
   "cell_type": "markdown",
   "id": "57395b98",
   "metadata": {},
   "source": [
    "Powyższe twierdzenie stanowi,że granica każdego zbieżnego podciągu ciągów z trzech rozpatrywanych metod największego spadku spełniają warunek konieczny dla bycia punktem osiągania ekstremum przez funkcję. Nie gwarantuje ono jednak, że caly ciąg jest zbieżny. Fakt ten można jednak uzyskać przy nieco wzmocnionych założeniach o funkcji $f$."
   ]
  },
  {
   "cell_type": "markdown",
   "id": "439022d3",
   "metadata": {},
   "source": [
    "\\begin{definition}[Zbiór poziomicowy] Niech $W\\subset \\mathbb{R}^n$. \n",
    "Zbiorem poziomicowym funkcji $f : W \\rightarrow \\mathbb{R}$ nazywamy zbiór\n",
    "$$\n",
    "W_\\alpha(f) =\\left\\{x\\in W:\\ f(x)\\leq \\alpha\\right\\},\\ \\ \\alpha\\in\\mathbb{R}\n",
    "$$\n",
    "\\end{definition}"
   ]
  },
  {
   "cell_type": "markdown",
   "id": "9235eef6",
   "metadata": {},
   "source": [
    "\\begin{definition}[warunek Lipschitza] Niech $W\\subset \\mathbb{R}^n$. \n",
    "Funkcja $f : W \\rightarrow \\mathbb{R}$ spełnia na zbiorze $W$ warunek Lipschitza ze stałą $L>0$, jeżeli dla każdego $x,y\\in W$ zachodzi:\n",
    "$\n",
    "|f(x)-f(y)|\\leq L\\|x-y\\|\n",
    "$\n",
    "\\end{definition}"
   ]
  },
  {
   "cell_type": "markdown",
   "id": "72962931",
   "metadata": {},
   "source": [
    "\\begin{theorem}\n",
    "Niech funkcja $f$ będzie ograniczona z dołu,  a gradient funkcji $f$ będzie\n",
    "    funkcją spełniajacą warunek Lipschitza ze stałą $L$ na zbiorze poziomicowym $S = W_{f(x_1)}(f)$.\n",
    "Niech $(x_k)$ będzie ciągiem skonstruowanym przy pomocy metody największego spadku z regułą\n",
    "Armijo, regułą dokładnej minimalizacji, która jest dobrze określona w każdym kroku (poprawność\n",
    "reguły dokładnej  minimalizacji w każdym kroku gwarantuje w szczególnosci założenie zwartości\n",
    "zbioru $S$) lub regułą minimalizacji ograniczonej, dla której $A > \\frac{1}{2L}$. Wówczas albo istnieje $K$, takie że\n",
    "$Df(x_K) = 0$, albo ciąg $(Df(x_k))$ zbiega do zera.\n",
    "\\end{theorem}"
   ]
  },
  {
   "cell_type": "markdown",
   "id": "983ac315",
   "metadata": {},
   "source": [
    "Powyższe twierdzenie dowodzi poprawności metod największego spadku, lecz nie mówi nic\n",
    "o szybkości zbieżnosci i o warunku końca. Wzmacniając założenia można dowieść,\n",
    "że zbieżność jest liniowa oraz warunek końca jest poprawny.\n",
    "\n",
    "Niech $S = W_{f(x_1)}(f)$, $m(x)$ oznacza najmniejszą wartość własną hesjanu funkcji $f$, natomiast $M(x)$ – jego największą wartość własną."
   ]
  },
  {
   "cell_type": "markdown",
   "id": "87e54d52",
   "metadata": {},
   "source": [
    "\\begin{theorem}\n",
    "Załóżmy, że zbiór $S$ jest wypukły i zwarty, a funkcja $f$ jest klasy $C^2$ na $S$ oraz\n",
    "$m = \\inf_{x\\in S} m(x) > 0$. Wówczas punkt $\\overline{x}$ będący granicą ciągu $(x_k)$ wyznaczonego metodą największego\n",
    "spadku należy do $S$ i  funkcja $f$ osiąga w nim minimum na $S$ oraz dla dowolnego $x\\in S$ zachodzi\n",
    "$$\n",
    "\\|x-\\overline{x}\\|\\leq\\frac{1}{m} \\|Df(x)\\|, \\ \\ \\ \\hbox{oraz}\\ \\ \\  f(x)-f(\\overline{x})\\leq\\frac{1}{m} \\|Df(x)\\|^2\n",
    "$$\n",
    "\\end{theorem}"
   ]
  },
  {
   "cell_type": "markdown",
   "id": "40af0d2e",
   "metadata": {},
   "source": [
    "Powyższe twierdzenie pokazuje,że warunek końca sformułowany jako ograniczenie\n",
    "na norme gradientu funkcji $f$ jest poprawny i daje ograniczenia zarówno na odległość przybliżenia\n",
    "$x_{k}$ od punktu minimum, jak i na dokładność wyznaczenia wartosci minimalnej funkcji. Czym ”bardziej” ściśle wypukła jest funkcja na otoczeniu punktu $\\overline{x}$, tj. czym większe jest \n",
    "$m$, tym ostrzejsza jest zależność między normą gradientu a odległością od punktu $\\overline{x}$."
   ]
  },
  {
   "cell_type": "markdown",
   "id": "d8b4bb39",
   "metadata": {},
   "source": [
    "\\begin{theorem}\n",
    "Załóżmy, że zbiór $S$ jest wypukły i zwarty, a funkcja $f$ jest klasy $C^2$ na $S$ oraz\n",
    "$m = \\inf_{x\\in S} m(x) > 0$. Niech $M = \\sup_{x\\in S} M(x)$. Wówczas $M<+\\infty$ oraz dla ciągu $(x_k)$ wygenerowanego\n",
    "przy pomocy metody największego spadku z regułą dokładnej minimalizacji mamy\n",
    "$$\n",
    "f(x_{k+1})-f(\\overline{x})\\leq \\left(1-\\frac{m}{2M}\\right)(f(x_{k})-f(\\overline{x}))\n",
    "$$\n",
    "natomiast ciągu $(x_k)$ wygenerowanego\n",
    "przy pomocy metody największego spadku z regułą ograniczonej minimalizacji mamy\n",
    "$$\n",
    "f(x_{k+1})-f(\\overline{x})\\leq \\left(1+m\\gamma +\\frac{mM\\gamma^2}{2}\\right)(f(x_{k})-f(\\overline{x})),\n",
    "$$\n",
    "gdzie $$\\gamma=min\\left\\{\\frac{1}{M},A\\right\\}$$\n",
    "\\end{theorem}"
   ]
  },
  {
   "cell_type": "markdown",
   "id": "5e9055ed",
   "metadata": {},
   "source": [
    "Powyższe twierdzenie sugeruje, że zbieżność wartości funkcji jest najszybsza, jeżeli funkcja podobnie zachowuje się\n",
    "we wszystkich kierunkach, czyli wartości własne macierzy drugich pochodnych leżą dość blisko\n",
    "siebie. Wówczas iloraz $m/M$ jest największy, co korzystnie wpływa na współczynnik kontrakcji\n",
    "$1 − m/(2M)$. A zatem algorytm największego spadku, podobnie jak wszystkie inne metody\n",
    "spadkowe, bedzie najlepiej pracował na takich funkcjach, które mają stosunkowo duży iloraz\n",
    "$m/M$, lub inaczej, $m$ jest tego samego rzędu co $M$. Twierdzenie 6 ma nieco inną tezę w przypadku reguły Armijo, ale zachowuje liniową zbieżność. Zaletą tej reguła ta jest to, że jest ona prosta\n",
    "w implementacji i nie wymaga stosowania metod optymalizacji funkcji jednej zmiennej. Koszt\n",
    "tego uproszczenia nie jest zwykle równiez duży, lecz zależy od parametrów $s, \\sigma, \\beta$. Nie ma niestety\n",
    "reguł doboru tych parametrów – pozostawia się to doświadczeniu i intuicji użytkownika."
   ]
  },
  {
   "cell_type": "markdown",
   "id": "9109b0c1",
   "metadata": {},
   "source": [
    "## 2.2 Minimalizacja kwadratowej funkcji kosztu w sieci neuronowej\n",
    "\n",
    "Rozpatrzmy funkcję kosztu $J$, wyznaczającą wagi modelu nadzorowanego uczenia maszynowego  za pomocą sumy kwadratów błędów \n",
    "(ang. sum of squared errors — SSE) pomiędzy wyliczonym wynikiem modelu $\\varphi(x)$, a rzeczywistą etykietą klas (ozn. $\\mathbf z = \\overline{\\mathbf w}^T\\overline{\\mathbf x},\\,\\,\\varphi(z)$ - funkcja aktywacji neuronu, $(x^{(i)})_1^m$ -  ciąg próbek, $(y^{(i)})_1^m$ - ciąg etykiet)\n",
    "$$\n",
    "J(\\mathbf w)= \\frac{1}{2}\\sum_{i}(y^{(i)}-\\varphi(z^{(i)}))^2\n",
    "$$\n",
    "Wartość $1/2$ ma na celu jedynie zniwelowanie stałej $2$ w wartości gradientu funkcji $J(\\mathbf w)$:\n",
    "$$\n",
    "\\frac{\\partial J}{\\partial \\mathbf  w_j}= -\\sum_{i}(y^{(i)}-\\varphi(z^{(i)}))x_j^{(i)}\n",
    "$$\n",
    "Wówczas metoda największego spadku ze stałą szybkością uczenia ma postać (kompensacja dwóch minusów w drugim składniku):\n",
    "$$\n",
    "\\mathbf w^{k+1}=\\mathbf w^k+\\eta \\sum_{i}(y^{(i)}-\\varphi(z^{(i)}))x_j^{(i)}\n",
    "$$\n"
   ]
  },
  {
   "cell_type": "markdown",
   "id": "365162fb",
   "metadata": {},
   "source": [
    "# 3. Metoda mnożników Lagrange'a\n",
    "\n",
    "\n",
    "\n",
    "Rozważmy problem optymalizacyjny z ograniczeniami nierównościowymi:\n",
    "\n",
    "$$ \n",
    "\\left\\{ \\begin{array}{l} f(x)\\rightarrow min\\\\ \n",
    "g_i(x)\\leq 0,\\ \\ i=1,2,\\dots,m\\\\ \n",
    "x\\in X\\subset \\mathbb{R}^n,\n",
    "\\end{array}\n",
    "\\right. \n",
    "$$\n",
    "\n",
    "gdzie $X$ jest zbiorem otwartym, $f,g_i:X\\rightarrow \\mathbb{R}$\n",
    "\n",
    "Zatem wprowadzony powyżej zbiór $W$ ma postać \n",
    "$$\n",
    "W=\\{x\\in X:\\ g_i\\leq 0,\\ i=1,2,\\dots,m\\}.\n",
    "$$"
   ]
  },
  {
   "cell_type": "markdown",
   "id": "327ad39d",
   "metadata": {},
   "source": [
    "\\begin{definition}\n",
    "\\textbf{Zbiorem ograniczeń aktywnych} w punkcie $\\overline{x}\\in W$. nazywamy zbiór\n",
    "\n",
    " \\begin{equation}\n",
    "    I(\\overline{x})=\\left\\{i\\in\\{1,2,\\dots,m\\}:\\ g_i(\\overline{x})=0\\right\\}\n",
    "    \\end{equation}\n",
    "\\end{definition}"
   ]
  },
  {
   "cell_type": "markdown",
   "id": "e89bbaa3",
   "metadata": {},
   "source": [
    "\\begin{example}\n",
    "Rozważmy następujący problem optymalizacyjny \n",
    "\n",
    "$$ \n",
    "\\left\\{ \\begin{array}{l} f(x)\\rightarrow min\\\\ \n",
    "g_1(x)=x-4\\leq 0\\\\ \n",
    "g_2(x)=-x-10\\leq 0\n",
    "\\end{array}\n",
    "\\right. \n",
    "$$\n",
    "\n",
    "Ograniczenia oznaczają, że $x\\in[-10,4]$. Rozwiązanie tego problemu, to oczywiście $\\overline{x}=0$. Rozwiązanie to jest niezależne od wprowadzonych ograniczeń, tzn. gdyby ich nie było, to byłoby takie samo. Mówimy wtedy, że pewne (lub wszsystkie) \\textit{ograniczenia są nieaktywne}.\n",
    "\n",
    "Zmieńmy teraz te ograniczenia:\n",
    "\n",
    "$$ \n",
    "\\left\\{ \\begin{array}{l}\n",
    "g_1(x)=-x+1\\leq 0,\\\\ \n",
    "g_2(x)=x-4\\leq 0\n",
    "\\end{array}\n",
    "\\right. \n",
    "$$\n",
    "\n",
    "Takie ograniczenia oznaczają, że $x\\in[1,4]$. Rozwiązanie  problemu jest teraz $\\overline{x}=1$. Wynika stąd, że ograniczenie $g_2(x)\\leq 0$ jest nieaktywne, ale ograniczenie $g_1(x)\\leq 0$ jest \\textit{aktywne}. W tym przypadku zachodzi \n",
    "\n",
    "$$\n",
    "g_1(\\overline{x}) = -\\overline{x}+1 = 0.\n",
    "$$\n",
    "\n",
    "Zatem aktywne ograniczenie oznacza, że w punkcie rozwiązania problemu funkcja tego ograniczenia przyjmuje wartość 0.\n",
    "\\end{example}\n"
   ]
  },
  {
   "cell_type": "markdown",
   "id": "c5b60ff0",
   "metadata": {},
   "source": [
    "\\begin{definition}\n",
    "Niech $g_i:X\\rightarrow \\mathbb{R}$ będą różniczkowalne w $\\overline{x}\\in W$ dla każdego $i\\in I(\\overline{x})$. \\textbf{Stożkiem kierunków stycznych w punkcie} $\\overline{x}$ \\textbf{dla ograniczeń zlinearyzowanych} \n",
    "     nazywamy zbiór\n",
    "     \n",
    "  \\begin{equation}\n",
    "    T_{lin}(\\overline{x})=\\left\\{d\\in\\mathbb{R}^n:\\ Dg_i(\\overline{x})\\cdot d \\leq 0\\right\\}\n",
    "   \\end{equation}\n",
    "\\end{definition}\n"
   ]
  },
  {
   "cell_type": "markdown",
   "id": "7aa31ac1",
   "metadata": {},
   "source": [
    "\\begin{lemma}\n",
    "Jeżeli $\\overline{x}\\in W$, to $T(\\overline{x})\\subset T_{lin}(\\overline{x})$\n",
    "\\end{lemma}"
   ]
  },
  {
   "cell_type": "markdown",
   "id": "65e186b2",
   "metadata": {},
   "source": [
    "\\begin{example}\n",
    "Rozważmy następujący  zbiór\n",
    "\n",
    "$$\n",
    "W=\\left\\{ x\\in\\mathbb{R}^2:\\ x_1^2+x_2^2\\leq 1,\\ x_2\\geq 0\\right\\}\n",
    "$$\n",
    "\n",
    "będący domkniętym półkołem na płaszczyźnie o środku $(0,0)$ i promieniu 1. Zbiór ten można wyrazić w postaci ograniczeń nierównościowych pewnego zagadnienia optymalizacyjnego, definiując funkcje:\n",
    "\n",
    "$$ \n",
    "\\begin{array}{l} \n",
    "g_1(x_1,x_2)=x_1^2+x_2^2-1\\\\ \n",
    "g_2(x_1,x_2)=-x_2\n",
    "\\end{array}\n",
    "$$\n",
    "\n",
    "Nietrudno sprawdzić, że\n",
    "\\begin{itemize}\n",
    "\\item jeżeli $\\overline{x}=(0.5,0.5)$, to $\\overline{x}\\in Int(W)$ oraz $T_{lin}(\\overline{x})=(\\overline{x})$ \n",
    "\\item jeżeli $\\overline{x}=(0,1)$, to $\\overline{x}\\in \\partial(W)$ oraz $T_{lin}(\\overline{x})=(\\overline{x})$\n",
    "\\item jeżeli $\\overline{x}=(1,0)$, to $\\overline{x}\\in \\partial(W)$ oraz $T_{lin}(\\overline{x})=(\\overline{x})$\n",
    "\\end{itemize}\n",
    "\n",
    "Zmieńmy teraz drugie ograniczenie:\n",
    "\n",
    "$$ \n",
    "g_2(x)=-x_2^2\n",
    "$$\n",
    "\n",
    "Nie powoduje to zmiany kształtu zbioru $W$, ale tym razem\n",
    "\n",
    "\\begin{itemize}\n",
    "\\item jeżeli $\\overline{x}=(0,1)$, to $\\overline{x}\\in \\partial(W)$ oraz $T_{lin}(\\overline{x})=(\\overline{x})$\n",
    "\\item jeżeli $\\overline{x}=(1,0)$, to $\\overline{x}\\in \\partial(W)$ oraz $T_{lin}(\\overline{x})\\not \\subsetneqq(\\overline{x})$\n",
    "\\end{itemize}\n",
    "\n",
    "\\end{example}"
   ]
  },
  {
   "cell_type": "markdown",
   "id": "075db470",
   "metadata": {},
   "source": [
    "\\begin{theorem}[Kuhna-Tuckera]\n",
    "Niech $\\overline{x}$ będzie rozwiązaniem lokalnym problemu optymalizacyjnego  z ogrniczeniami nierównościowymi (27). Niech funkcja $f$ oraz funkcje $g_i$  dla $i\\in I(\\overline{x})$ będą różniczkowalne. Ponadto niech $T_{lin}(\\overline{x})=T(\\overline{x})$. Wtedy istnieje wektor $\\mu\\in[0,\\infty)^m$ taki, że\n",
    "\n",
    "$$ \n",
    "\\left\\{\n",
    "\\begin{array}{l}\n",
    "Df(\\overline{x})+ \\sum\\limits_{i\\in I(\\overline{x})}\\mu_iDg_i(\\overline{x})=0^T\\\\ \n",
    "\\mu_ig_i(x)= 0,\\ \\ \\hbox{dla }\\ i=1,2,\\dots,m\n",
    "\\end{array}\n",
    "\\right.\n",
    "$$\n",
    "\n",
    "\\end{theorem}\n",
    "\n",
    "Wektor $\\mu$ nazywamy  \\textbf{wektorem mnożników Lagrange'a w punkcie }$\\overline{x}$. \n",
    "\n",
    "Z drugiego warunku tezy wynika, że jeżeli $g_i(x)<0$, to $\\mu_i=0$. Stąd czasami pierwszy warunek tezy zapisuje się nieformalnie jako:\n",
    "\n",
    "$$ \n",
    "Df(\\overline{x})+ \\sum\\limits_{i=1}^m\\mu_iDg_i(\\overline{x})=0^T,\n",
    "$$\n",
    "co daje układ równań $n$ równań\n",
    "$$ \n",
    "\\frac{\\partial f}{\\partial x_j}(\\overline{x})+ \\sum\\limits_{i=1}^m \\mu_i \\frac{\\partial g_i}{\\partial x_j}(\\overline{x})=0,\\ \\ \\ j=1,2,\\dots,n.\n",
    "$$\n",
    "\\end{theorem}\n"
   ]
  },
  {
   "cell_type": "markdown",
   "id": "34f76d35",
   "metadata": {},
   "source": [
    "\\textbf{Uwaga:} Jeżeli $\\overline{x}\\in Int(W)$ (tzn. $I(\\overline{x})=\\emptyset$), to warunki Kuhna-Tuckera mają postać\n",
    "$$ \n",
    "\\left\\{\n",
    "\\begin{array}{l}\n",
    "Df(\\overline{x})=0^T\\\\ \n",
    "\\mu = 0^T\n",
    "\\end{array}\n",
    "\\right.\n",
    "$$"
   ]
  },
  {
   "cell_type": "markdown",
   "id": "266eff70",
   "metadata": {},
   "source": [
    "<b>Uwaga:</b> Pierwszy warunek Kuhna-Tuckera wyraźnie oznacza warunek konieczny dla istnienia ekstremum funkcji \n",
    "$$\n",
    "f(x) + \\sum\\limits_{i\\in I(x)}\\mu_i g_i(x), \n",
    "$$\n",
    "co sugeruje, że formuła optymalizacji z ograniczeniami została tu zastąpiona formułą optymalizacji (niemal, bo warunek drugi) bez ograniczeń nieco innej funkcji."
   ]
  },
  {
   "cell_type": "code",
   "execution_count": null,
   "id": "06159470",
   "metadata": {},
   "outputs": [],
   "source": []
  }
 ],
 "metadata": {
  "kernelspec": {
   "display_name": "Python 3 (ipykernel)",
   "language": "python",
   "name": "python3"
  },
  "language_info": {
   "codemirror_mode": {
    "name": "ipython",
    "version": 3
   },
   "file_extension": ".py",
   "mimetype": "text/x-python",
   "name": "python",
   "nbconvert_exporter": "python",
   "pygments_lexer": "ipython3",
   "version": "3.8.2"
  },
  "latex_envs": {
   "LaTeX_envs_menu_present": true,
   "autoclose": false,
   "autocomplete": true,
   "bibliofile": "biblio.bib",
   "cite_by": "apalike",
   "current_citInitial": 1,
   "eqLabelWithNumbers": true,
   "eqNumInitial": 1,
   "hotkeys": {
    "equation": "Ctrl-E",
    "itemize": "Ctrl-I"
   },
   "labels_anchors": false,
   "latex_user_defs": false,
   "report_style_numbering": false,
   "user_envs_cfg": false
  }
 },
 "nbformat": 4,
 "nbformat_minor": 5
}
